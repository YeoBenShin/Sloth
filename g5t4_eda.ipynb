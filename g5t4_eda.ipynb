{
 "cells": [
  {
   "cell_type": "markdown",
   "id": "58923129-67a7-496b-a962-85e35e0cc433",
   "metadata": {},
   "source": [
    "# Part 1: EDA"
   ]
  },
  {
   "cell_type": "markdown",
   "id": "4574fbe6-7383-4f67-8869-dd7c0b17168b",
   "metadata": {},
   "source": [
    "**1. Overview of dataset [15%]**\n",
    "a. Summarize the background of the dataset.\n",
    "b. State the size of the dataset.\n",
    "c. For each variable, describe what it represents and its data type (numerical or categorical).\n",
    "\n",
    "**2. Data pre-processing [35%]**\n",
    "a. For each variable, determine the percentage of missing data. For any column with missing data, describe how you resolve the issue. Clearly state any assumption you made.\n",
    "b. For each variable, identify outliers (if any) and describe how you resolve the issue. Clearly state any assumption you made.\n",
    "c. For categorical variables, perform the necessary encoding.\n",
    "\n",
    "**3. Exploratory analysis and visualization [50%]**\n",
    "a. For each variable, provide relevant summary statistics.\n",
    "b. For each variable, provide an appropriate visualisation depicting the distribution of its values, and summarize any key observation(s) you made.\n",
    "c. Perform bi-variate analyses on the variables. You do not need to analyse every pair; only focus on the pairs you believe are worth investigating and explain your choices. For each pair, describe the relationship between the two variables. Use appropriate statistical methods and/or visualization.\n",
    "\n",
    "If applicable, corresponding codes that are reproducible (i.e., they produce output consistent with your answers), and well documented (in the form of comments and markdown cells)."
   ]
  },
  {
   "cell_type": "code",
   "execution_count": 2,
   "id": "99466495-6926-4267-b915-0ab7bf38af28",
   "metadata": {},
   "outputs": [],
   "source": [
    "# Imported libraries\n",
    "import numpy as np\n",
    "import pandas as pd\n",
    "import matplotlib.pyplot as plt"
   ]
  },
  {
   "cell_type": "markdown",
   "id": "3bf1a344-e8fb-43fe-a95c-106a6e15d099",
   "metadata": {},
   "source": [
    "## Reading of Dataset"
   ]
  },
  {
   "cell_type": "code",
   "execution_count": 4,
   "id": "b7bc62bf-a157-4aaf-a45d-fd6bec65f0ec",
   "metadata": {},
   "outputs": [
    {
     "data": {
      "text/html": [
       "<div>\n",
       "<style scoped>\n",
       "    .dataframe tbody tr th:only-of-type {\n",
       "        vertical-align: middle;\n",
       "    }\n",
       "\n",
       "    .dataframe tbody tr th {\n",
       "        vertical-align: top;\n",
       "    }\n",
       "\n",
       "    .dataframe thead th {\n",
       "        text-align: right;\n",
       "    }\n",
       "</style>\n",
       "<table border=\"1\" class=\"dataframe\">\n",
       "  <thead>\n",
       "    <tr style=\"text-align: right;\">\n",
       "      <th></th>\n",
       "      <th>Date</th>\n",
       "      <th>Emp_ID</th>\n",
       "      <th>Age</th>\n",
       "      <th>Gender</th>\n",
       "      <th>City</th>\n",
       "      <th>Education</th>\n",
       "      <th>Salary</th>\n",
       "      <th>Join_Date</th>\n",
       "      <th>Last_Work_Date</th>\n",
       "      <th>Join_Designation</th>\n",
       "      <th>Designation</th>\n",
       "      <th>Total_Sales_Acquired</th>\n",
       "      <th>Quarterly_Rating</th>\n",
       "    </tr>\n",
       "  </thead>\n",
       "  <tbody>\n",
       "    <tr>\n",
       "      <th>0</th>\n",
       "      <td>1/3/2016</td>\n",
       "      <td>1</td>\n",
       "      <td>28</td>\n",
       "      <td>Male</td>\n",
       "      <td>C23</td>\n",
       "      <td>Master</td>\n",
       "      <td>57387</td>\n",
       "      <td>24/12/2015</td>\n",
       "      <td>11/3/2016</td>\n",
       "      <td>1.0</td>\n",
       "      <td>1</td>\n",
       "      <td>1715580</td>\n",
       "      <td>2</td>\n",
       "    </tr>\n",
       "    <tr>\n",
       "      <th>1</th>\n",
       "      <td>1/12/2017</td>\n",
       "      <td>2</td>\n",
       "      <td>31</td>\n",
       "      <td>Male</td>\n",
       "      <td>C7</td>\n",
       "      <td>Master</td>\n",
       "      <td>67016</td>\n",
       "      <td>6/11/2017</td>\n",
       "      <td>NaN</td>\n",
       "      <td>NaN</td>\n",
       "      <td>2</td>\n",
       "      <td>0</td>\n",
       "      <td>1</td>\n",
       "    </tr>\n",
       "    <tr>\n",
       "      <th>2</th>\n",
       "      <td>1/4/2017</td>\n",
       "      <td>4</td>\n",
       "      <td>43</td>\n",
       "      <td>Male</td>\n",
       "      <td>C13</td>\n",
       "      <td>Master</td>\n",
       "      <td>65603</td>\n",
       "      <td>7/12/2016</td>\n",
       "      <td>27/4/2017</td>\n",
       "      <td>2.0</td>\n",
       "      <td>2</td>\n",
       "      <td>350000</td>\n",
       "      <td>1</td>\n",
       "    </tr>\n",
       "    <tr>\n",
       "      <th>3</th>\n",
       "      <td>1/3/2016</td>\n",
       "      <td>5</td>\n",
       "      <td>29</td>\n",
       "      <td>Male</td>\n",
       "      <td>C9</td>\n",
       "      <td>College</td>\n",
       "      <td>46368</td>\n",
       "      <td>9/1/2016</td>\n",
       "      <td>7/3/2016</td>\n",
       "      <td>1.0</td>\n",
       "      <td>1</td>\n",
       "      <td>120360</td>\n",
       "      <td>1</td>\n",
       "    </tr>\n",
       "    <tr>\n",
       "      <th>4</th>\n",
       "      <td>1/12/2017</td>\n",
       "      <td>6</td>\n",
       "      <td>31</td>\n",
       "      <td>Female</td>\n",
       "      <td>C11</td>\n",
       "      <td>Bachelor</td>\n",
       "      <td>80874</td>\n",
       "      <td>31/7/2017</td>\n",
       "      <td>NaN</td>\n",
       "      <td>3.0</td>\n",
       "      <td>3</td>\n",
       "      <td>1265000</td>\n",
       "      <td>2</td>\n",
       "    </tr>\n",
       "    <tr>\n",
       "      <th>...</th>\n",
       "      <td>...</td>\n",
       "      <td>...</td>\n",
       "      <td>...</td>\n",
       "      <td>...</td>\n",
       "      <td>...</td>\n",
       "      <td>...</td>\n",
       "      <td>...</td>\n",
       "      <td>...</td>\n",
       "      <td>...</td>\n",
       "      <td>...</td>\n",
       "      <td>...</td>\n",
       "      <td>...</td>\n",
       "      <td>...</td>\n",
       "    </tr>\n",
       "    <tr>\n",
       "      <th>2376</th>\n",
       "      <td>1/12/2017</td>\n",
       "      <td>2784</td>\n",
       "      <td>34</td>\n",
       "      <td>Male</td>\n",
       "      <td>C24</td>\n",
       "      <td>College</td>\n",
       "      <td>82815</td>\n",
       "      <td>15/10/2012</td>\n",
       "      <td>NaN</td>\n",
       "      <td>2.0</td>\n",
       "      <td>3</td>\n",
       "      <td>21748820</td>\n",
       "      <td>4</td>\n",
       "    </tr>\n",
       "    <tr>\n",
       "      <th>2377</th>\n",
       "      <td>1/10/2017</td>\n",
       "      <td>2785</td>\n",
       "      <td>34</td>\n",
       "      <td>Female</td>\n",
       "      <td>C9</td>\n",
       "      <td>College</td>\n",
       "      <td>12105</td>\n",
       "      <td>28/8/2017</td>\n",
       "      <td>28/10/2017</td>\n",
       "      <td>1.0</td>\n",
       "      <td>1</td>\n",
       "      <td>0</td>\n",
       "      <td>1</td>\n",
       "    </tr>\n",
       "    <tr>\n",
       "      <th>2378</th>\n",
       "      <td>1/9/2016</td>\n",
       "      <td>2786</td>\n",
       "      <td>45</td>\n",
       "      <td>Male</td>\n",
       "      <td>C19</td>\n",
       "      <td>College</td>\n",
       "      <td>35370</td>\n",
       "      <td>31/7/2015</td>\n",
       "      <td>22/9/2016</td>\n",
       "      <td>2.0</td>\n",
       "      <td>2</td>\n",
       "      <td>2815090</td>\n",
       "      <td>1</td>\n",
       "    </tr>\n",
       "    <tr>\n",
       "      <th>2379</th>\n",
       "      <td>1/6/2016</td>\n",
       "      <td>2787</td>\n",
       "      <td>28</td>\n",
       "      <td>Female</td>\n",
       "      <td>C20</td>\n",
       "      <td>Master</td>\n",
       "      <td>69498</td>\n",
       "      <td>21/7/2015</td>\n",
       "      <td>20/6/2016</td>\n",
       "      <td>1.0</td>\n",
       "      <td>1</td>\n",
       "      <td>977830</td>\n",
       "      <td>1</td>\n",
       "    </tr>\n",
       "    <tr>\n",
       "      <th>2380</th>\n",
       "      <td>1/12/2017</td>\n",
       "      <td>2788</td>\n",
       "      <td>30</td>\n",
       "      <td>Male</td>\n",
       "      <td>C27</td>\n",
       "      <td>Master</td>\n",
       "      <td>70254</td>\n",
       "      <td>8/6/2017</td>\n",
       "      <td>NaN</td>\n",
       "      <td>2.0</td>\n",
       "      <td>2</td>\n",
       "      <td>2298240</td>\n",
       "      <td>2</td>\n",
       "    </tr>\n",
       "  </tbody>\n",
       "</table>\n",
       "<p>2381 rows × 13 columns</p>\n",
       "</div>"
      ],
      "text/plain": [
       "           Date  Emp_ID  Age  Gender City Education  Salary   Join_Date  \\\n",
       "0      1/3/2016       1   28    Male  C23    Master   57387  24/12/2015   \n",
       "1     1/12/2017       2   31    Male   C7    Master   67016   6/11/2017   \n",
       "2      1/4/2017       4   43    Male  C13    Master   65603   7/12/2016   \n",
       "3      1/3/2016       5   29    Male   C9   College   46368    9/1/2016   \n",
       "4     1/12/2017       6   31  Female  C11  Bachelor   80874   31/7/2017   \n",
       "...         ...     ...  ...     ...  ...       ...     ...         ...   \n",
       "2376  1/12/2017    2784   34    Male  C24   College   82815  15/10/2012   \n",
       "2377  1/10/2017    2785   34  Female   C9   College   12105   28/8/2017   \n",
       "2378   1/9/2016    2786   45    Male  C19   College   35370   31/7/2015   \n",
       "2379   1/6/2016    2787   28  Female  C20    Master   69498   21/7/2015   \n",
       "2380  1/12/2017    2788   30    Male  C27    Master   70254    8/6/2017   \n",
       "\n",
       "     Last_Work_Date  Join_Designation  Designation  Total_Sales_Acquired  \\\n",
       "0         11/3/2016               1.0            1               1715580   \n",
       "1               NaN               NaN            2                     0   \n",
       "2         27/4/2017               2.0            2                350000   \n",
       "3          7/3/2016               1.0            1                120360   \n",
       "4               NaN               3.0            3               1265000   \n",
       "...             ...               ...          ...                   ...   \n",
       "2376            NaN               2.0            3              21748820   \n",
       "2377     28/10/2017               1.0            1                     0   \n",
       "2378      22/9/2016               2.0            2               2815090   \n",
       "2379      20/6/2016               1.0            1                977830   \n",
       "2380            NaN               2.0            2               2298240   \n",
       "\n",
       "      Quarterly_Rating  \n",
       "0                    2  \n",
       "1                    1  \n",
       "2                    1  \n",
       "3                    1  \n",
       "4                    2  \n",
       "...                ...  \n",
       "2376                 4  \n",
       "2377                 1  \n",
       "2378                 1  \n",
       "2379                 1  \n",
       "2380                 2  \n",
       "\n",
       "[2381 rows x 13 columns]"
      ]
     },
     "execution_count": 4,
     "metadata": {},
     "output_type": "execute_result"
    }
   ],
   "source": [
    "df = pd.read_csv(\"employee.csv\")\n",
    "df"
   ]
  },
  {
   "cell_type": "markdown",
   "id": "f136730d-9e6d-4001-bf2b-12242deb5f92",
   "metadata": {},
   "source": [
    "## 1. Overview of dataset"
   ]
  },
  {
   "cell_type": "markdown",
   "id": "fb1434aa-9f5f-4466-9294-8cc971ef7b06",
   "metadata": {},
   "source": [
    "### a. Summarize the background of the dataset.\n",
    "The dataset contains HR data related to a sales team. Specifically the dataset captures employees’ information at the beginning of each month, including if the employee quit in that given month, total sales acquired so far in his/her career and his/her latest quarterly rating. The dataset contains 2381 rows and 13 columns.\n",
    "\n",
    "| Column Name | Description | Type | Details |\n",
    "| ----------- | ----------- | ---- | ------- |\n",
    "| Date | Record capture date | Categorical | Date in format DD/MM/YYYY |\n",
    "| Emp_ID | Employee ID | Categorical |\n",
    "| Age | Age | Numerical |\n",
    "| Gender | Gender | Categorical | \"Male\", \"Female\" |\n",
    "| City | City where employee works | Categorical | \"C1\", \"C2\", ..., \"C29\" |\n",
    "| Education | Highest education level of employee | Categorical | \"College\", \"Bachelor\", \"Master\" |\n",
    "| Salary | Last drawn salary | Numerical |\n",
    "| Join_Date | Date of joining the sales team | Categorical | Date in format DD/MM/YYYY |\n",
    "| Last_Work_Date | Last working date with the sales team | Categorical | Date in format DD/MM/YYYY. If employee does not quit in the given month where record is captured, the field would be empty (NaN). |\n",
    "| Join_Designation | Designation level when first joined | Categorical | 1, 2, 3, 4, 5. |\n",
    "| Designation | Designation level at the time record is captured | Categorical | 1, 2, 3, 4, 5 |\n",
    "| Total_Sales_Acquired | Total sales generated by employee since joining the team | Numerical |\n",
    "| Quarterly_Rating | Latest quarterly performance rating | Categorical | 1, 2, 3, 4 |\n",
    "\n"
   ]
  },
  {
   "cell_type": "code",
   "execution_count": 7,
   "id": "07980215-16a1-485f-9fdc-3c32a351ce5a",
   "metadata": {},
   "outputs": [
    {
     "name": "stdout",
     "output_type": "stream",
     "text": [
      "Number of rows: 2381\n",
      "Number of columns: 13\n"
     ]
    }
   ],
   "source": [
    "# get rows and columns (size) of dataframe\n",
    "n_rows, n_cols = df.shape\n",
    "\n",
    "print(f\"Number of rows: {n_rows}\")\n",
    "print(f\"Number of columns: {n_cols}\")"
   ]
  },
  {
   "cell_type": "code",
   "execution_count": 9,
   "id": "ef326da9-ecf6-4348-96c7-8fe50013f08a",
   "metadata": {},
   "outputs": [
    {
     "data": {
      "text/plain": [
       "Date                     object\n",
       "Emp_ID                    int64\n",
       "Age                       int64\n",
       "Gender                   object\n",
       "City                     object\n",
       "Education                object\n",
       "Salary                    int64\n",
       "Join_Date                object\n",
       "Last_Work_Date           object\n",
       "Join_Designation        float64\n",
       "Designation               int64\n",
       "Total_Sales_Acquired      int64\n",
       "Quarterly_Rating          int64\n",
       "dtype: object"
      ]
     },
     "execution_count": 9,
     "metadata": {},
     "output_type": "execute_result"
    }
   ],
   "source": [
    "# get datatype of attributes/features\n",
    "df.dtypes"
   ]
  },
  {
   "cell_type": "code",
   "execution_count": 11,
   "id": "ebd77bb7-8b95-4c69-94ad-443e40b35a53",
   "metadata": {},
   "outputs": [
    {
     "name": "stdout",
     "output_type": "stream",
     "text": [
      "Possible values of 'Gender' attribute: ['Male' 'Female']\n",
      "Possible values of 'City' attribute: ['C23' 'C7' 'C13' 'C9' 'C11' 'C2' 'C19' 'C26' 'C20' 'C17' 'C29' 'C10'\n",
      " 'C24' 'C14' 'C6' 'C28' 'C5' 'C18' 'C27' 'C15' 'C8' 'C25' 'C21' 'C1' 'C4'\n",
      " 'C3' 'C16' 'C22' 'C12']\n",
      "Possible values of 'Education' attribute: ['Master' 'College' 'Bachelor']\n",
      "Possible values of 'Join_Designation' attribute: [ 1. nan  2.  3.  4.  5.]\n",
      "Possible values of 'Designation' attribute: [1 2 3 4 5]\n",
      "Possible values of 'Quarterly_Rating' attribute: [2 1 4 3]\n"
     ]
    }
   ],
   "source": [
    "# analysing unique values of specific columns\n",
    "genders = df[\"Gender\"].unique()\n",
    "cities = df[\"City\"].unique()\n",
    "education_levels = df[\"Education\"].unique()\n",
    "join_designation_levels = df[\"Join_Designation\"].unique()\n",
    "designation_levels = df[\"Designation\"].unique()\n",
    "quarterly_ratings = df[\"Quarterly_Rating\"].unique()\n",
    "\n",
    "print(f\"Possible values of 'Gender' attribute: {genders}\")\n",
    "print(f\"Possible values of 'City' attribute: {cities}\")\n",
    "print(f\"Possible values of 'Education' attribute: {education_levels}\")\n",
    "print(f\"Possible values of 'Join_Designation' attribute: {join_designation_levels}\")\n",
    "print(f\"Possible values of 'Designation' attribute: {designation_levels}\")\n",
    "print(f\"Possible values of 'Quarterly_Rating' attribute: {quarterly_ratings}\")"
   ]
  },
  {
   "cell_type": "markdown",
   "id": "1e49ae15-f9b9-44cd-bd27-9cf500e39273",
   "metadata": {},
   "source": [
    "## 2. Data pre-processing"
   ]
  },
  {
   "cell_type": "code",
   "execution_count": 13,
   "id": "2e6e5bcb-88d3-4c40-8d71-8c7df0280162",
   "metadata": {},
   "outputs": [
    {
     "data": {
      "text/plain": [
       "Date                    2381\n",
       "Emp_ID                  2381\n",
       "Age                     2381\n",
       "Gender                  2381\n",
       "City                    2381\n",
       "Education               2381\n",
       "Salary                  2381\n",
       "Join_Date               2263\n",
       "Last_Work_Date          1616\n",
       "Join_Designation        2276\n",
       "Designation             2381\n",
       "Total_Sales_Acquired    2381\n",
       "Quarterly_Rating        2381\n",
       "dtype: int64"
      ]
     },
     "execution_count": 13,
     "metadata": {},
     "output_type": "execute_result"
    }
   ],
   "source": [
    "# number of available data\n",
    "df.count()"
   ]
  },
  {
   "cell_type": "code",
   "execution_count": 15,
   "id": "20b4109b-087a-459d-9183-d3d4c7e2c398",
   "metadata": {},
   "outputs": [
    {
     "name": "stdout",
     "output_type": "stream",
     "text": [
      "Percentage of data missing\n",
      "Date =  0.00%\n",
      "Emp_ID =  0.00%\n",
      "Age =  0.00%\n",
      "Gender =  0.00%\n",
      "City =  0.00%\n",
      "Education =  0.00%\n",
      "Salary =  0.00%\n",
      "Join_Date =  4.96%\n",
      "Last_Work_Date =  32.13%\n",
      "Join_Designation =  4.41%\n",
      "Designation =  0.00%\n",
      "Total_Sales_Acquired =  0.00%\n",
      "Quarterly_Rating =  0.00%\n",
      "\n",
      "Columns with missing data: ['Join_Date', 'Last_Work_Date', 'Join_Designation']\n"
     ]
    }
   ],
   "source": [
    "# percentage of data missing per attribute\n",
    "print(\"Percentage of data missing\")\n",
    "\n",
    "col = df.columns\n",
    "i = 0\n",
    "missing_data_col = []\n",
    "\n",
    "for valid_data in df.count():\n",
    "    print(col[i], end=\" = \")\n",
    "    per_missing = (1 - (valid_data/n_rows))*100\n",
    "    print(f\"{per_missing : .2f}%\")\n",
    "\n",
    "    if per_missing > 0:\n",
    "        missing_data_col.append(col[i])\n",
    "        \n",
    "    i += 1\n",
    "print()\n",
    "\n",
    "# print all column names of columns with missing data\n",
    "print(\"Columns with missing data: \" + str(missing_data_col))"
   ]
  },
  {
   "cell_type": "markdown",
   "id": "74690b22-1c50-44c5-a36a-cdd9fdb63115",
   "metadata": {},
   "source": [
    "### Missing Data\n",
    "| Column Name | Percentage Missing | Resolution Technique | Assumptions |\n",
    "| ----------- | ------------------ | -------------------- | ----------- |\n",
    "| Last_Work_Date | 32.13% | Impute NaN values as the date in the \"Date\" attribute and Impute a new attribute \"Current_Staff\" with those that have NaN values initialised as \"Yes\" and those that have Last_Work_Date as \"No\". | Fields with NaN values suggest that the staff is still with the company. |\n",
    "| Join_Date | 4.96% | Impute NaN values as the average tenure of their salary group from their Last_Work_Date | There is a correlation between salary and the tenure length of a worker in the company. |\n",
    "| Join_Designation | 4.41% | Impute the NaN values as 1. | All workers begin at the lowest Designation level when they joined the company. |"
   ]
  },
  {
   "cell_type": "code",
   "execution_count": 20,
   "id": "286da615-eb35-46e6-adf0-34fe767abf59",
   "metadata": {},
   "outputs": [
    {
     "name": "stdout",
     "output_type": "stream",
     "text": [
      "Last_Work_Date has been resolved: True\n",
      "Last_Work_Date has been resolved: True\n"
     ]
    }
   ],
   "source": [
    "# Resolving Last_Work_Date\n",
    "print(f\"Last_Work_Date has been resolved: {df[\"Last_Work_Date\"].count() == n_rows}\")\n",
    "df[\"Current_Staff\"] = \"No\"\n",
    "df.loc[df[\"Last_Work_Date\"].isna(), \"Current_Staff\"] = \"Yes\"\n",
    "df.loc[df[\"Last_Work_Date\"].isna(), \"Last_Work_Date\"] = df[\"Date\"]\n",
    "print(f\"Last_Work_Date has been resolved: {df[\"Last_Work_Date\"].count() == n_rows}\")"
   ]
  },
  {
   "cell_type": "code",
   "execution_count": 22,
   "id": "e14de700-2de6-40f2-99d2-2bcda6a85a35",
   "metadata": {},
   "outputs": [
    {
     "name": "stderr",
     "output_type": "stream",
     "text": [
      "/var/folders/bx/7kvn0lvx77j0d06z8z8gpn3c0000gn/T/ipykernel_26224/3974724315.py:15: SettingWithCopyWarning: \n",
      "A value is trying to be set on a copy of a slice from a DataFrame.\n",
      "Try using .loc[row_indexer,col_indexer] = value instead\n",
      "\n",
      "See the caveats in the documentation: https://pandas.pydata.org/pandas-docs/stable/user_guide/indexing.html#returning-a-view-versus-a-copy\n",
      "  valid_join_df['Tenure'] = (valid_join_df['Last_Work_Date'] - valid_join_df['Join_Date']).dt.days\n",
      "/var/folders/bx/7kvn0lvx77j0d06z8z8gpn3c0000gn/T/ipykernel_26224/3974724315.py:18: SettingWithCopyWarning: \n",
      "A value is trying to be set on a copy of a slice from a DataFrame.\n",
      "Try using .loc[row_indexer,col_indexer] = value instead\n",
      "\n",
      "See the caveats in the documentation: https://pandas.pydata.org/pandas-docs/stable/user_guide/indexing.html#returning-a-view-versus-a-copy\n",
      "  valid_join_df['Salary_Range'] = pd.cut(valid_join_df['Salary'], bins=range(0, 150000, 10000))\n",
      "/var/folders/bx/7kvn0lvx77j0d06z8z8gpn3c0000gn/T/ipykernel_26224/3974724315.py:21: FutureWarning: The default of observed=False is deprecated and will be changed to True in a future version of pandas. Pass observed=False to retain current behavior or observed=True to adopt the future default and silence this warning.\n",
      "  avg_tenure_by_salary = valid_join_df.groupby('Salary_Range')['Tenure'].mean()\n"
     ]
    },
    {
     "name": "stdout",
     "output_type": "stream",
     "text": [
      "      Emp_ID  Salary   Join_Date   Join_Date\n",
      "0          1   57387  23/02/2015  23/02/2015\n",
      "1          2   67016  16/11/2016  16/11/2016\n",
      "2          4   65603  12/04/2016  12/04/2016\n",
      "3          5   46368  12/05/2015  12/05/2015\n",
      "4          6   80874  24/06/2016  24/06/2016\n",
      "...      ...     ...         ...         ...\n",
      "2376    2784   82815  24/06/2016  24/06/2016\n",
      "2377    2785   12105  16/04/2017  16/04/2017\n",
      "2378    2786   35370  08/11/2015  08/11/2015\n",
      "2379    2787   69498  06/06/2015  06/06/2015\n",
      "2380    2788   70254  31/08/2016  31/08/2016\n",
      "\n",
      "[2381 rows x 4 columns]\n"
     ]
    }
   ],
   "source": [
    "import pandas as pd\n",
    "from datetime import datetime\n",
    "\n",
    "# Convert date columns to datetime\n",
    "df['Join_Date'] = pd.to_datetime(df['Join_Date'], format='%d/%m/%Y', errors='coerce')\n",
    "df['Last_Work_Date'] = pd.to_datetime(df['Last_Work_Date'], format='%d/%m/%Y', errors='coerce')\n",
    "\n",
    "# Filter employees with missing Join_Date\n",
    "missing_join_df = df[df['Join_Date'].isna()]\n",
    "\n",
    "# Filter employees with both Join_Date and Last_Work_Date\n",
    "valid_join_df = df[df['Join_Date'].notna() & df['Last_Work_Date'].notna()]\n",
    "\n",
    "# Calculate tenure in days for employees with valid join and last work dates\n",
    "valid_join_df['Tenure'] = (valid_join_df['Last_Work_Date'] - valid_join_df['Join_Date']).dt.days\n",
    "\n",
    "# Group by salary ranges (e.g., every 10,000)\n",
    "valid_join_df['Salary_Range'] = pd.cut(valid_join_df['Salary'], bins=range(0, 150000, 10000))\n",
    "\n",
    "# Calculate average tenure for each salary range\n",
    "avg_tenure_by_salary = valid_join_df.groupby('Salary_Range')['Tenure'].mean()\n",
    "\n",
    "# Function to estimate join date based on salary range\n",
    "def estimate_join_date(row):\n",
    "    salary_range = pd.cut([row['Salary']], bins=range(0, 150000, 10000))[0]\n",
    "    if salary_range in avg_tenure_by_salary:\n",
    "        avg_tenure = avg_tenure_by_salary[salary_range]\n",
    "        if pd.notna(row['Last_Work_Date']):\n",
    "            estimated_join_date = row['Last_Work_Date'] - pd.Timedelta(days=avg_tenure)\n",
    "            return estimated_join_date\n",
    "    return row['Last_Work_Date'] - pd.DateOffset(years=1)\n",
    "\n",
    "# Update the original dataframe with estimated join dates\n",
    "df.loc[missing_join_df.index, 'Join_Date'] = missing_join_df['Join_Date']\n",
    "\n",
    "salary_group = df.groupby('Salary')\n",
    "\n",
    "# Apply the estimation function\n",
    "df['Join_Date'] = df.apply(lambda row: estimate_join_date(row), axis=1)\n",
    "\n",
    "# Convert the estimated join date back to the original format\n",
    "df['Join_Date'] = df['Join_Date'].dt.strftime('%d/%m/%Y')\n",
    "\n",
    "# Print the updated DataFrame\n",
    "print(df[['Emp_ID', 'Salary', 'Join_Date', 'Join_Date']])\n",
    "# print(df['Join_Date'].count() / df['Emp_ID'].count() * 100)"
   ]
  },
  {
   "cell_type": "code",
   "execution_count": 24,
   "id": "5dec09ca-bf6f-4d63-a3df-aacf2f6ef6ec",
   "metadata": {},
   "outputs": [
    {
     "name": "stdout",
     "output_type": "stream",
     "text": [
      "Join_Designation has been resolved: False\n",
      "Join_Designation has been resolved: True\n"
     ]
    }
   ],
   "source": [
    "# Resolving Join_Designation\n",
    "print(f\"Join_Designation has been resolved: {df[\"Join_Designation\"].count() == n_rows}\")\n",
    "df[\"Join_Designation\"] = df[\"Join_Designation\"].replace(np.nan, 1)\n",
    "\n",
    "print(f\"Join_Designation has been resolved: {df[\"Join_Designation\"].count() == n_rows}\")"
   ]
  },
  {
   "cell_type": "code",
   "execution_count": 26,
   "id": "6f8fe852-d75b-400e-bc6c-4858c02ee626",
   "metadata": {},
   "outputs": [
    {
     "data": {
      "text/plain": [
       "Date                    2381\n",
       "Emp_ID                  2381\n",
       "Age                     2381\n",
       "Gender                  2381\n",
       "City                    2381\n",
       "Education               2381\n",
       "Salary                  2381\n",
       "Join_Date               2381\n",
       "Last_Work_Date          2381\n",
       "Join_Designation        2381\n",
       "Designation             2381\n",
       "Total_Sales_Acquired    2381\n",
       "Quarterly_Rating        2381\n",
       "Current_Staff           2381\n",
       "dtype: int64"
      ]
     },
     "execution_count": 26,
     "metadata": {},
     "output_type": "execute_result"
    }
   ],
   "source": [
    "# check if all NaN values have been handled\n",
    "\n",
    "df.count()"
   ]
  },
  {
   "cell_type": "markdown",
   "id": "e9351de6-abb4-4374-99cd-b15a722e6ad3",
   "metadata": {},
   "source": [
    "## 3. EDA and Visualisation"
   ]
  }
 ],
 "metadata": {
  "kernelspec": {
   "display_name": "Python [conda env:base] *",
   "language": "python",
   "name": "conda-base-py"
  },
  "language_info": {
   "codemirror_mode": {
    "name": "ipython",
    "version": 3
   },
   "file_extension": ".py",
   "mimetype": "text/x-python",
   "name": "python",
   "nbconvert_exporter": "python",
   "pygments_lexer": "ipython3",
   "version": "3.12.7"
  }
 },
 "nbformat": 4,
 "nbformat_minor": 5
}
